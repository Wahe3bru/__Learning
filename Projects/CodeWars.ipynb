{
 "cells": [
  {
   "cell_type": "markdown",
   "metadata": {},
   "source": [
    "# Katas from Code Wars"
   ]
  },
  {
   "cell_type": "markdown",
   "metadata": {},
   "source": [
    "#### Descending Order\n",
    "\n",
    "Your task is to make a function that can take any non-negative integer as a argument and return it with its digits in descending order. Essentially, rearrange the digits to create the highest possible number.\n",
    "\n",
    "Examples:\n",
    "\n",
    "Input: 21445 Output: 54421\n",
    "\n",
    "Input: 145263 Output: 654321\n",
    "\n",
    "Input: 1254859723 Output: 9875543221"
   ]
  },
  {
   "cell_type": "code",
   "execution_count": 14,
   "metadata": {},
   "outputs": [
    {
     "data": {
      "text/plain": [
       "987654321"
      ]
     },
     "execution_count": 14,
     "metadata": {},
     "output_type": "execute_result"
    }
   ],
   "source": [
    "def Descending_Order(num):\n",
    "    return int(\"\".join(sorted([c for c in str(num)], reverse=True)))\n",
    "    #numbers = \"\".join(sorted([c for c in str(num)], reverse=True))\n",
    "    #return int(numbers)\n",
    "    \n",
    "#Descending_Order(0)         # 0\n",
    "#Descending_Order(15)        # 51\n",
    "Descending_Order(123456789)  # 987654321"
   ]
  },
  {
   "cell_type": "markdown",
   "metadata": {
    "collapsed": true
   },
   "source": [
    "---\n",
    "#### Count of positives / sum of negatives\n",
    "\n",
    "Given an array of integers.\n",
    "\n",
    "Return an array, where the first element is the count of positives numbers and the second element is sum of negative numbers.\n",
    "\n",
    "If the input array is empty or null, return an empty array.\n",
    "The passed array should NOT be changed."
   ]
  },
  {
   "cell_type": "code",
   "execution_count": 22,
   "metadata": {},
   "outputs": [
    {
     "data": {
      "text/plain": [
       "[0, 0]"
      ]
     },
     "execution_count": 22,
     "metadata": {},
     "output_type": "execute_result"
    }
   ],
   "source": [
    "def count_positives_sum_negatives(arr):\n",
    "    count,sums=0,0\n",
    "    \n",
    "    for num in arr:\n",
    "        if num > 0:\n",
    "            count += 1\n",
    "        else:\n",
    "            sums += num\n",
    "    return [count,sums]\n",
    "    \n",
    "    \n",
    "#count_positives_sum_negatives([1, 2, 3, 4, 5, 6, 7, 8, 9, 10, -11, -12, -13, -14, -15])    # [10,-65]\n",
    "count_positives_sum_negatives([0, 2, 3, 0, 5, 6, 7, 8, 9, 10, -11, -12, -13, -14])         # [8,-50]\n",
    "count_positives_sum_negatives([1])                                                         # [1,0]\n",
    "count_positives_sum_negatives([-1])                                                        # [0,-1]\n",
    "count_positives_sum_negatives([])     \n",
    "            "
   ]
  },
  {
   "cell_type": "code",
   "execution_count": 26,
   "metadata": {},
   "outputs": [
    {
     "data": {
      "text/plain": [
       "[0, 0]"
      ]
     },
     "execution_count": 26,
     "metadata": {},
     "output_type": "execute_result"
    }
   ],
   "source": [
    "def count_positives_sum_negatives(arr):\n",
    "    return [len([x for x in arr if x > 0])] + [sum(y for y in arr if y < 0)] if arr else []\n",
    "    \n",
    "count_positives_sum_negatives([0])"
   ]
  },
  {
   "cell_type": "markdown",
   "metadata": {},
   "source": [
    "##### Lessons learned:\n",
    "\n",
    "[1,2,3] + [4,5] = [1,2,3,4,5]\n",
    "\n",
    "return [ ] if list empty: return [list_comprehension] if arr else []\n",
    "\n",
    "use len() and sum() to encapsulate list_comprehensions use as filters\n"
   ]
  },
  {
   "cell_type": "markdown",
   "metadata": {
    "collapsed": true
   },
   "source": [
    "---\n",
    "###### Number of people in the bus\n",
    "\n",
    "There is a bus moving in the city, and it takes and drop some people in each bus stop.\n",
    "\n",
    "You are provided with a list (or array) of integer arrays (or tuples). Each integer array has two items which represent number of people get into bus (The first item) and number of people get off the bus (The second item) in a bus stop.\n",
    "\n",
    "Your task is to return number of people who are still in the bus after the last bus station (after the last array). Even though it is the last bus stop, the bus is not empty and some people are still in the bus, and they are probably sleeping there :D\n",
    "\n",
    "Take a look on the test cases.\n",
    "\n",
    "Please keep in mind that the test cases ensure that the number of people in the bus is always >= 0. So the return integer can't be negative.\n",
    "\n",
    "The second value in the first integer array is 0, since the bus is empty in the first bus stop.\n"
   ]
  },
  {
   "cell_type": "code",
   "execution_count": 36,
   "metadata": {},
   "outputs": [
    {
     "data": {
      "text/plain": [
       "21"
      ]
     },
     "execution_count": 36,
     "metadata": {},
     "output_type": "execute_result"
    }
   ],
   "source": [
    "def num_ppl(bus_stops):\n",
    "    return sum(x[0]-x[1] for x in bus_stops)\n",
    "    # ppl = 0\n",
    "    # for stops in bus_stops:\n",
    "    #     ppl += stops[0] - stops[1]\n",
    "    # return ppl\n",
    "    \n",
    "    \n",
    "num_ppl([[10,0],[3,5],[5,8]])                       # 5\n",
    "num_ppl([[3,0],[9,1],[4,10],[12,2],[6,1],[7,10]])   # 17\n",
    "num_ppl([[3,0],[9,1],[4,8],[12,2],[6,1],[7,8]])     # 21"
   ]
  },
  {
   "cell_type": "code",
   "execution_count": 41,
   "metadata": {},
   "outputs": [
    {
     "data": {
      "text/plain": [
       "21"
      ]
     },
     "execution_count": 41,
     "metadata": {},
     "output_type": "execute_result"
    }
   ],
   "source": [
    "def num_ppl(bus_stops):\n",
    "    return sum(on - off for on, off in bus_stops)\n",
    "\n",
    "num_ppl([[3,0],[9,1],[4,8],[12,2],[6,1],[7,8]])  "
   ]
  },
  {
   "cell_type": "markdown",
   "metadata": {},
   "source": [
    "###### Lesson learned:\n",
    "sort of like tuple unpacking\n",
    "\n",
    "---"
   ]
  },
  {
   "cell_type": "markdown",
   "metadata": {},
   "source": [
    "##### Remove duplicates from list (not solved)\n",
    "Write function distinct that removes duplicate from list of numbers.\n",
    "\n",
    "The order of the sequence needs to stay the same.\n"
   ]
  },
  {
   "cell_type": "code",
   "execution_count": null,
   "metadata": {
    "collapsed": true
   },
   "outputs": [],
   "source": [
    "distinct([1])                                  #, [1])\n",
    "distinct([1, 2])                               #, [1, 2])\n",
    "distinct([1, 1, 2])                            #, [1, 2])\n",
    "distinct([1, 1, 1, 2, 3, 4, 5])                #, [1, 2, 3, 4, 5])\n",
    "distinct([1, 2, 2, 3, 3, 4, 4, 5, 6, 7, 7, 7]) #, [1, 2, 3, 4, 5, 6, 7])"
   ]
  },
  {
   "cell_type": "code",
   "execution_count": 49,
   "metadata": {},
   "outputs": [
    {
     "data": {
      "text/plain": [
       "<map at 0x10cec0ef0>"
      ]
     },
     "execution_count": 49,
     "metadata": {},
     "output_type": "execute_result"
    }
   ],
   "source": [
    "def distinct(seq):\n",
    "    set_seq = [list(set(str(x))) for x in seq] if len(seq)>1 else list(set(sorted(seq)))\n",
    "    return map(int,set_seq)\n",
    "\n",
    "distinct([2110336, 4309511, 2073737, 2338698]) "
   ]
  },
  {
   "cell_type": "code",
   "execution_count": 62,
   "metadata": {},
   "outputs": [
    {
     "data": {
      "text/plain": [
       "['2110336']"
      ]
     },
     "execution_count": 62,
     "metadata": {},
     "output_type": "execute_result"
    }
   ],
   "source": [
    "def distinct(seq):\n",
    "    seen = set()\n",
    "    return [x for x in seq if not(x in seen or seen.add(x))]\n",
    "\n",
    "distinct(['2110336']) "
   ]
  },
  {
   "cell_type": "markdown",
   "metadata": {},
   "source": [
    "___\n",
    "##### Is n divisible by x and y\n",
    "Create a function isDivisible(n, x, y) that checks if a number n is divisible by two numbers x AND y. All inputs are positive, non-zero digits."
   ]
  },
  {
   "cell_type": "code",
   "execution_count": 52,
   "metadata": {},
   "outputs": [
    {
     "data": {
      "text/plain": [
       "False"
      ]
     },
     "execution_count": 52,
     "metadata": {},
     "output_type": "execute_result"
    }
   ],
   "source": [
    "def is_divisible(n,x,y):\n",
    "    return True if n%x == 0 and n%y == 0 else False\n",
    "\n",
    "is_divisible(8,3,4)  # ,False)\n",
    "#is_divisible(48,3,4) # ,True)"
   ]
  },
  {
   "cell_type": "markdown",
   "metadata": {},
   "source": [
    "##### Lessons learned\n",
    "\n",
    "`a == b == c` _same as_ `a == c and b == c`"
   ]
  },
  {
   "cell_type": "code",
   "execution_count": 55,
   "metadata": {
    "collapsed": true
   },
   "outputs": [],
   "source": [
    "def is_divisible(n, x, y):\n",
    "    return n % x == n % y == 0\n"
   ]
  },
  {
   "cell_type": "markdown",
   "metadata": {},
   "source": [
    "! __research this one__ !"
   ]
  },
  {
   "cell_type": "code",
   "execution_count": 54,
   "metadata": {
    "collapsed": true
   },
   "outputs": [],
   "source": [
    "def is_divisible(n,x,y):\n",
    "    return (False, True)[n%x==0 and n%y==0]"
   ]
  },
  {
   "cell_type": "markdown",
   "metadata": {},
   "source": [
    "`(n%x or n%y)`\n",
    "\n",
    "if n divisible by x `n%x == 0` therefore _falsey_ else it's _truthy_\n",
    "\n",
    "if x is not divisible by either one, then expression is _True_\n",
    "\n",
    "therefore `not(n%x or n%y)`"
   ]
  },
  {
   "cell_type": "code",
   "execution_count": null,
   "metadata": {
    "collapsed": true
   },
   "outputs": [],
   "source": [
    "is_divisible = lambda n,x,y: not (n%x or n%y)"
   ]
  },
  {
   "cell_type": "markdown",
   "metadata": {},
   "source": [
    "___\n",
    "###### new problem here"
   ]
  },
  {
   "cell_type": "code",
   "execution_count": null,
   "metadata": {
    "collapsed": true
   },
   "outputs": [],
   "source": []
  }
 ],
 "metadata": {
  "kernelspec": {
   "display_name": "Python 3",
   "language": "python",
   "name": "python3"
  },
  "language_info": {
   "codemirror_mode": {
    "name": "ipython",
    "version": 3
   },
   "file_extension": ".py",
   "mimetype": "text/x-python",
   "name": "python",
   "nbconvert_exporter": "python",
   "pygments_lexer": "ipython3",
   "version": "3.6.2"
  }
 },
 "nbformat": 4,
 "nbformat_minor": 2
}
