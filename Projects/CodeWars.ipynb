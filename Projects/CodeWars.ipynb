{
 "cells": [
  {
   "cell_type": "markdown",
   "metadata": {},
   "source": [
    "# Katas from Code Wars"
   ]
  },
  {
   "cell_type": "markdown",
   "metadata": {},
   "source": [
    "#### Descending Order\n",
    "\n",
    "Your task is to make a function that can take any non-negative integer as a argument and return it with its digits in descending order. Essentially, rearrange the digits to create the highest possible number.\n",
    "\n",
    "Examples:\n",
    "\n",
    "Input: 21445 Output: 54421\n",
    "\n",
    "Input: 145263 Output: 654321\n",
    "\n",
    "Input: 1254859723 Output: 9875543221"
   ]
  },
  {
   "cell_type": "code",
   "execution_count": 14,
   "metadata": {},
   "outputs": [
    {
     "data": {
      "text/plain": [
       "987654321"
      ]
     },
     "execution_count": 14,
     "metadata": {},
     "output_type": "execute_result"
    }
   ],
   "source": [
    "def Descending_Order(num):\n",
    "    return int(\"\".join(sorted([c for c in str(num)], reverse=True)))\n",
    "    #numbers = \"\".join(sorted([c for c in str(num)], reverse=True))\n",
    "    #return int(numbers)\n",
    "    \n",
    "#Descending_Order(0)         # 0\n",
    "#Descending_Order(15)        # 51\n",
    "Descending_Order(123456789)  # 987654321"
   ]
  },
  {
   "cell_type": "markdown",
   "metadata": {},
   "source": [
    "---\n",
    "#### Count of positives / sum of negatives\n",
    "\n",
    "Given an array of integers.\n",
    "\n",
    "Return an array, where the first element is the count of positives numbers and the second element is sum of negative numbers.\n",
    "\n",
    "If the input array is empty or null, return an empty array.\n",
    "The passed array should NOT be changed."
   ]
  },
  {
   "cell_type": "code",
   "execution_count": 22,
   "metadata": {},
   "outputs": [
    {
     "data": {
      "text/plain": [
       "[0, 0]"
      ]
     },
     "execution_count": 22,
     "metadata": {},
     "output_type": "execute_result"
    }
   ],
   "source": [
    "def count_positives_sum_negatives(arr):\n",
    "    count,sums=0,0\n",
    "    \n",
    "    for num in arr:\n",
    "        if num > 0:\n",
    "            count += 1\n",
    "        else:\n",
    "            sums += num\n",
    "    return [count,sums]\n",
    "    \n",
    "    \n",
    "#count_positives_sum_negatives([1, 2, 3, 4, 5, 6, 7, 8, 9, 10, -11, -12, -13, -14, -15])    # [10,-65]\n",
    "count_positives_sum_negatives([0, 2, 3, 0, 5, 6, 7, 8, 9, 10, -11, -12, -13, -14])         # [8,-50]\n",
    "count_positives_sum_negatives([1])                                                         # [1,0]\n",
    "count_positives_sum_negatives([-1])                                                        # [0,-1]\n",
    "count_positives_sum_negatives([])     \n",
    "            "
   ]
  },
  {
   "cell_type": "code",
   "execution_count": 26,
   "metadata": {},
   "outputs": [
    {
     "data": {
      "text/plain": [
       "[0, 0]"
      ]
     },
     "execution_count": 26,
     "metadata": {},
     "output_type": "execute_result"
    }
   ],
   "source": [
    "def count_positives_sum_negatives(arr):\n",
    "    return [len([x for x in arr if x > 0])] + [sum(y for y in arr if y < 0)] if arr else []\n",
    "    \n",
    "count_positives_sum_negatives([0])"
   ]
  },
  {
   "cell_type": "markdown",
   "metadata": {},
   "source": [
    "##### Lessons learned:\n",
    "\n",
    "[1,2,3] + [4,5] = [1,2,3,4,5]\n",
    "\n",
    "return [ ] if list empty: return [list_comprehension] if arr else []\n",
    "\n",
    "use len() and sum() to encapsulate list_comprehensions use as filters\n"
   ]
  },
  {
   "cell_type": "markdown",
   "metadata": {},
   "source": [
    "---\n",
    "###### Number of people in the bus\n",
    "\n",
    "There is a bus moving in the city, and it takes and drop some people in each bus stop.\n",
    "\n",
    "You are provided with a list (or array) of integer arrays (or tuples). Each integer array has two items which represent number of people get into bus (The first item) and number of people get off the bus (The second item) in a bus stop.\n",
    "\n",
    "Your task is to return number of people who are still in the bus after the last bus station (after the last array). Even though it is the last bus stop, the bus is not empty and some people are still in the bus, and they are probably sleeping there :D\n",
    "\n",
    "Take a look on the test cases.\n",
    "\n",
    "Please keep in mind that the test cases ensure that the number of people in the bus is always >= 0. So the return integer can't be negative.\n",
    "\n",
    "The second value in the first integer array is 0, since the bus is empty in the first bus stop.\n"
   ]
  },
  {
   "cell_type": "code",
   "execution_count": 36,
   "metadata": {},
   "outputs": [
    {
     "data": {
      "text/plain": [
       "21"
      ]
     },
     "execution_count": 36,
     "metadata": {},
     "output_type": "execute_result"
    }
   ],
   "source": [
    "def num_ppl(bus_stops):\n",
    "    return sum(x[0]-x[1] for x in bus_stops)\n",
    "    # ppl = 0\n",
    "    # for stops in bus_stops:\n",
    "    #     ppl += stops[0] - stops[1]\n",
    "    # return ppl\n",
    "    \n",
    "    \n",
    "num_ppl([[10,0],[3,5],[5,8]])                       # 5\n",
    "num_ppl([[3,0],[9,1],[4,10],[12,2],[6,1],[7,10]])   # 17\n",
    "num_ppl([[3,0],[9,1],[4,8],[12,2],[6,1],[7,8]])     # 21"
   ]
  },
  {
   "cell_type": "code",
   "execution_count": 41,
   "metadata": {},
   "outputs": [
    {
     "data": {
      "text/plain": [
       "21"
      ]
     },
     "execution_count": 41,
     "metadata": {},
     "output_type": "execute_result"
    }
   ],
   "source": [
    "def num_ppl(bus_stops):\n",
    "    return sum(on - off for on, off in bus_stops)\n",
    "\n",
    "num_ppl([[3,0],[9,1],[4,8],[12,2],[6,1],[7,8]])  "
   ]
  },
  {
   "cell_type": "markdown",
   "metadata": {},
   "source": [
    "###### Lesson learned:\n",
    "sort of like tuple unpacking\n",
    "\n",
    "---"
   ]
  },
  {
   "cell_type": "markdown",
   "metadata": {},
   "source": [
    "##### Remove duplicates from list (not solved)\n",
    "Write function distinct that removes duplicate from list of numbers.\n",
    "\n",
    "The order of the sequence needs to stay the same.\n"
   ]
  },
  {
   "cell_type": "code",
   "execution_count": null,
   "metadata": {
    "collapsed": true
   },
   "outputs": [],
   "source": [
    "distinct([1])                                  #, [1])\n",
    "distinct([1, 2])                               #, [1, 2])\n",
    "distinct([1, 1, 2])                            #, [1, 2])\n",
    "distinct([1, 1, 1, 2, 3, 4, 5])                #, [1, 2, 3, 4, 5])\n",
    "distinct([1, 2, 2, 3, 3, 4, 4, 5, 6, 7, 7, 7]) #, [1, 2, 3, 4, 5, 6, 7])"
   ]
  },
  {
   "cell_type": "code",
   "execution_count": 49,
   "metadata": {},
   "outputs": [
    {
     "data": {
      "text/plain": [
       "<map at 0x10cec0ef0>"
      ]
     },
     "execution_count": 49,
     "metadata": {},
     "output_type": "execute_result"
    }
   ],
   "source": [
    "def distinct(seq):\n",
    "    set_seq = [list(set(str(x))) for x in seq] if len(seq)>1 else list(set(sorted(seq)))\n",
    "    return map(int,set_seq)\n",
    "\n",
    "distinct([2110336, 4309511, 2073737, 2338698]) "
   ]
  },
  {
   "cell_type": "code",
   "execution_count": 62,
   "metadata": {},
   "outputs": [
    {
     "data": {
      "text/plain": [
       "['2110336']"
      ]
     },
     "execution_count": 62,
     "metadata": {},
     "output_type": "execute_result"
    }
   ],
   "source": [
    "def distinct(seq):\n",
    "    seen = set()\n",
    "    return [x for x in seq if not(x in seen or seen.add(x))]\n",
    "\n",
    "distinct(['2110336']) "
   ]
  },
  {
   "cell_type": "markdown",
   "metadata": {},
   "source": [
    "___\n",
    "##### Is n divisible by x and y\n",
    "Create a function isDivisible(n, x, y) that checks if a number n is divisible by two numbers x AND y. All inputs are positive, non-zero digits."
   ]
  },
  {
   "cell_type": "code",
   "execution_count": 52,
   "metadata": {},
   "outputs": [
    {
     "data": {
      "text/plain": [
       "False"
      ]
     },
     "execution_count": 52,
     "metadata": {},
     "output_type": "execute_result"
    }
   ],
   "source": [
    "def is_divisible(n,x,y):\n",
    "    return True if n%x == 0 and n%y == 0 else False\n",
    "\n",
    "is_divisible(8,3,4)  # ,False)\n",
    "#is_divisible(48,3,4) # ,True)"
   ]
  },
  {
   "cell_type": "markdown",
   "metadata": {},
   "source": [
    "##### Lessons learned\n",
    "\n",
    "`a == b == c` _same as_ `a == c and b == c`"
   ]
  },
  {
   "cell_type": "code",
   "execution_count": 55,
   "metadata": {
    "collapsed": true
   },
   "outputs": [],
   "source": [
    "def is_divisible(n, x, y):\n",
    "    return n % x == n % y == 0\n"
   ]
  },
  {
   "cell_type": "markdown",
   "metadata": {},
   "source": [
    "! __research this one__ !"
   ]
  },
  {
   "cell_type": "code",
   "execution_count": 54,
   "metadata": {
    "collapsed": true
   },
   "outputs": [],
   "source": [
    "def is_divisible(n,x,y):\n",
    "    return (False, True)[n%x==0 and n%y==0]"
   ]
  },
  {
   "cell_type": "markdown",
   "metadata": {},
   "source": [
    "`(n%x or n%y)`\n",
    "\n",
    "if n divisible by x `n%x == 0` therefore _falsey_ else it's _truthy_\n",
    "\n",
    "if x is not divisible by either one, then expression is _True_\n",
    "\n",
    "therefore `not(n%x or n%y)`"
   ]
  },
  {
   "cell_type": "code",
   "execution_count": null,
   "metadata": {
    "collapsed": true
   },
   "outputs": [],
   "source": [
    "is_divisible = lambda n,x,y: not (n%x or n%y)"
   ]
  },
  {
   "cell_type": "markdown",
   "metadata": {},
   "source": [
    "___\n",
    "###### A Needle in the Haystack\n",
    "\n",
    "Can you find the needle in the haystack?\n",
    "\n",
    "Write a function findNeedle() that takes an array full of junk but containing one \"needle\"\n",
    "\n",
    "After your function finds the needle it should return a message (as a string) that says:\n",
    "\n",
    "\"found the needle at position \" plus the index it found the needle.\n",
    "\n",
    "eg. should return\n",
    "\n",
    "`\"found the needle at position 5\"`\n"
   ]
  },
  {
   "cell_type": "code",
   "execution_count": 71,
   "metadata": {
    "collapsed": true
   },
   "outputs": [],
   "source": [
    "def find_needle(haystack):\n",
    "    for i,v in enumerate(haystack):\n",
    "        if v == 'needle':\n",
    "            return \"found the needle at position {}\".format(i)"
   ]
  },
  {
   "cell_type": "code",
   "execution_count": 72,
   "metadata": {},
   "outputs": [
    {
     "data": {
      "text/plain": [
       "'found the needle at position 3'"
      ]
     },
     "execution_count": 72,
     "metadata": {},
     "output_type": "execute_result"
    }
   ],
   "source": [
    "hay = ['3', '123124234', None, 'needle', 'world', 'hay', 2, '3', True, False]\n",
    "find_needle(hay)"
   ]
  },
  {
   "cell_type": "markdown",
   "metadata": {},
   "source": [
    "###### Lessons Learned\n",
    "\n",
    "__list.index(elem)__ -- searches for the given element from the start of the list and returns its index. Throws a ValueError if the element does not appear (use \"in\" to check without a ValueError)."
   ]
  },
  {
   "cell_type": "code",
   "execution_count": 74,
   "metadata": {
    "collapsed": true
   },
   "outputs": [],
   "source": [
    "def find_needle(haystack):\n",
    "  return 'found the needle at position {}'.format(haystack.index('needle'))"
   ]
  },
  {
   "cell_type": "markdown",
   "metadata": {},
   "source": [
    "---\n",
    "##### Word values\n",
    "\n",
    "Given a string \"abc\" and assuming that each letter in the string has a value equal to its position in the alphabet, our string will have a value of 1 + 2 + 3 = 6. This means that: a = 1, b = 2, c = 3 ....z = 26.\n",
    "\n",
    "You will be given a list of strings and your task will be to return the values of the strings as explained above multiplied by the position of that string in the list. For our purpose, position begins with 1.\n",
    "\n",
    "nameValue [\"abc\",\"abc abc\"] should return [6,24] because of [ 6 * 1, 12 * 2 ]. Note how spaces are ignored.\n",
    "\n",
    "\"abc\" has a value of 6, while \"abc abc\" has a value of 12. Now, the value at position 1 is multiplied by 1 while the value at position 2 is multiplied by 2.\n",
    "\n",
    "Input will only contain lowercase characters and spaces."
   ]
  },
  {
   "cell_type": "code",
   "execution_count": 77,
   "metadata": {},
   "outputs": [
    {
     "data": {
      "text/plain": [
       "[88, 12, 225]"
      ]
     },
     "execution_count": 77,
     "metadata": {},
     "output_type": "execute_result"
    }
   ],
   "source": [
    "def name_value(my_list):\n",
    "    vals = []\n",
    "    sum_vals=0\n",
    "    for ind,elem in enumerate(my_list):\n",
    "        for c in elem:\n",
    "            sum_vals += (ord(c)-96)\n",
    "        vals.append(sum_vals*(ind+1))\n",
    "        sum_vals=0\n",
    "    return vals\n",
    "\n",
    "name_value([\"abc\",\"abc\",\"abc\",\"abc\"]) # [6,12,18,24])\n",
    "name_value([\"codewars\",\"abc\",\"xyz\"])  # [88,12,225]) "
   ]
  },
  {
   "cell_type": "markdown",
   "metadata": {},
   "source": [
    "for some reason the above fails afew test on codewars ;("
   ]
  },
  {
   "cell_type": "markdown",
   "metadata": {},
   "source": [
    "---\n",
    "##### Simple string reversal II\n",
    "In this Kata, you will be given a string and two indexes. Your task is to reverse the portion of that string between those two indexes inclusive.\n",
    "\n",
    "solve(\"codewars\",1,5) = \"cawedors\" -- elements at index 1 to 5 inclusive are \"odewa\". So we reverse them.\n",
    "\n",
    "solve(\"cODEWArs\", 1,5) = \"cAWEDOrs\" -- to help visualize."
   ]
  },
  {
   "cell_type": "code",
   "execution_count": 79,
   "metadata": {
    "collapsed": true
   },
   "outputs": [],
   "source": [
    "def rev_str2(st,a,b):\n",
    "    return (st[:a] + st[b:a-1:-1] + st[b+1:]) if a>0 else (st[:a] + st[b::-1] + st[b+1:])"
   ]
  },
  {
   "cell_type": "code",
   "execution_count": 80,
   "metadata": {},
   "outputs": [
    {
     "data": {
      "text/plain": [
       "'vutsrqponmlkjihgfecbawxyz'"
      ]
     },
     "execution_count": 80,
     "metadata": {},
     "output_type": "execute_result"
    }
   ],
   "source": [
    "#rev_str2(\"codingIsFun\",2,100)              #,\"conuFsIgnid\"\n",
    "#rev_str2(\"FunctionalProgramming\", 2,15)    #,\"FuargorPlanoitcnmming\"\n",
    "rev_str2(\"abcefghijklmnopqrstuvwxyz\",0,20) #,\"vutsrqponmlkjihgfecbawxyz\"\n",
    "#rev_str2(\"abcefghijklmnopqrstuvwxyz\",5,20) #== \"abcefvutsrqponmlkjihgwxyz\""
   ]
  },
  {
   "cell_type": "code",
   "execution_count": 81,
   "metadata": {
    "collapsed": true
   },
   "outputs": [],
   "source": [
    "def solve(s,a,b):\n",
    "    return s[:a]+s[a:b+1][::-1]+s[b+1:]"
   ]
  },
  {
   "cell_type": "markdown",
   "metadata": {},
   "source": [
    "###### Lesson Learned\n",
    "one can index and then reverse[::-1]\n",
    "\n",
    "or reverse like examples below"
   ]
  },
  {
   "cell_type": "code",
   "execution_count": 82,
   "metadata": {},
   "outputs": [
    {
     "data": {
      "text/plain": [
       "'nuFsIgnidoc'"
      ]
     },
     "execution_count": 82,
     "metadata": {},
     "output_type": "execute_result"
    }
   ],
   "source": [
    "\"codingIsFun\"[::-1]"
   ]
  },
  {
   "cell_type": "code",
   "execution_count": 83,
   "metadata": {},
   "outputs": [
    {
     "data": {
      "text/plain": [
       "[3, 2, 1]"
      ]
     },
     "execution_count": 83,
     "metadata": {},
     "output_type": "execute_result"
    }
   ],
   "source": [
    "[1,2,3][::-1]"
   ]
  },
  {
   "cell_type": "markdown",
   "metadata": {},
   "source": [
    "---\n",
    "##### What century is year?\n",
    "\n",
    "Given a year, return the century it is in\n",
    "\n",
    "eg: \n",
    "\n",
    "2010 -> 21\n",
    "\n",
    "   678 -> 7\n",
    "   \n",
    "   1900 -> 19\n",
    "\n",
    "\n",
    " "
   ]
  },
  {
   "cell_type": "code",
   "execution_count": null,
   "metadata": {
    "collapsed": true
   },
   "outputs": [],
   "source": [
    "   \n",
    "def century(year):\n",
    "    return year//100 if year%100==0 else year//100+1"
   ]
  },
  {
   "cell_type": "code",
   "execution_count": null,
   "metadata": {
    "collapsed": true
   },
   "outputs": [],
   "source": [
    "def century(year):\n",
    "    return (year - 1) // 100 + 1\n",
    "    \n",
    "# more elegant    \n",
    "def century(year):\n",
    "    year = year//100 + bool(year%100)\n",
    "    return year"
   ]
  },
  {
   "cell_type": "markdown",
   "metadata": {},
   "source": [
    "---\n",
    "##### Minimize _sum_Of_array_(Array_Series_#1) \n",
    "Our task is to find the minimum sum which is obtained from summing each Two integers product .\n",
    "\n",
    "minSum({5,4,2,3}) // return 22 \n",
    "\n",
    "Explanation :: \n",
    "5*2 +3*4 = 22\n",
    "\n",
    "minSum({12,6,10,26,3,24}) // return 342\n",
    "\n",
    "Explanation ::\n",
    "26*3 + 24*6 + 12*10 = 342\n",
    "\n",
    "minSum({9,2,8,7,5,4,0,6}) // return 74\n",
    "\n",
    "Explanation ::\n",
    "9*0 + 8*2 +7*4 +6*5 = 74"
   ]
  },
  {
   "cell_type": "code",
   "execution_count": 14,
   "metadata": {},
   "outputs": [
    {
     "data": {
      "text/plain": [
       "74"
      ]
     },
     "execution_count": 14,
     "metadata": {},
     "output_type": "execute_result"
    }
   ],
   "source": [
    "def minSum(arr):\n",
    "    sum=0\n",
    "    for i in range(len(arr)//2):\n",
    "        sum += sorted(arr)[i]*sorted(arr)[::-1][i]\n",
    "    return sum\n",
    "\n",
    "minSum([9,2,8,7,5,4,0,6])"
   ]
  },
  {
   "cell_type": "code",
   "execution_count": null,
   "metadata": {},
   "outputs": [],
   "source": [
    "def min_sum(arr):\n",
    "    arr = sorted(arr)\n",
    "    return sum(arr[i]*arr[-i-1] for i in range(len(arr)//2))"
   ]
  },
  {
   "cell_type": "markdown",
   "metadata": {},
   "source": [
    "---\n",
    "##### How Many Unique Consonants?\n",
    "\n",
    "Complete the function that counts the number of unique consonants in a string (made up of printable ascii characters).\n",
    "\n",
    "Consonants are letters used in English other than \"a\", \"e\", \"i\", \"o\", \"u\". We will count \"y\" as a consonant.\n",
    "\n",
    "Remember, your function needs to return the number of unique consonants - disregarding duplicates. For example, if the string passed into the function reads \"add\", the function should return 1 rather than 2, since \"d\" is a duplicate.\n",
    "\n",
    "Similarly, the function should also disregard duplicate consonants of differing cases. For example, \"Dad\" passed into the function should return 1 as \"d\" and \"D\" are duplicates.\n",
    "\n",
    "\"add\" ==> 1\n",
    "\n",
    "\"Dad\" ==> 1\n",
    "\n",
    "\"aeiou\" ==> 0\n",
    "\n",
    "\"sillystring\" ==> 7\n",
    "\n",
    "\"abcdefghijklmnopqrstuvwxyz\" ==> 21\n",
    "\n",
    "\"Count my unique consonants!!\" ==> 7"
   ]
  },
  {
   "cell_type": "code",
   "execution_count": 55,
   "metadata": {},
   "outputs": [
    {
     "data": {
      "text/plain": [
       "7"
      ]
     },
     "execution_count": 55,
     "metadata": {},
     "output_type": "execute_result"
    }
   ],
   "source": [
    "def const(s):\n",
    "    lis=[]\n",
    "    return len([lis.append(x.lower()) for x in s if x.lower() not in lis + \"a e i o u\".split() and x.isalpha()])\n",
    "\n",
    "const(\"sillystring\")"
   ]
  },
  {
   "cell_type": "markdown",
   "metadata": {},
   "source": [
    "##### Lessons Learned"
   ]
  },
  {
   "cell_type": "code",
   "execution_count": 56,
   "metadata": {},
   "outputs": [],
   "source": [
    "CONSONANTS = set('bcdfghjklmnpqrstvwxyz')\n",
    "\n",
    "def count_consonants(text):\n",
    "    return len(CONSONANTS.intersection(text.lower()))"
   ]
  },
  {
   "cell_type": "markdown",
   "metadata": {},
   "source": [
    "set intersection - first time seeing it used in the wild"
   ]
  },
  {
   "cell_type": "code",
   "execution_count": 57,
   "metadata": {},
   "outputs": [],
   "source": [
    "def count_consonants(text):\n",
    "    return len(set(filter(str.isalpha,text.lower())) - set(\"aeiou\"))"
   ]
  },
  {
   "cell_type": "markdown",
   "metadata": {},
   "source": [
    "filter the (lowercase)text to letters\n",
    "\n",
    "in a set (ie only unique),\n",
    "\n",
    "subtract letters from vowel set "
   ]
  },
  {
   "cell_type": "code",
   "execution_count": 58,
   "metadata": {},
   "outputs": [],
   "source": [
    "def count_consonants(s):\n",
    "    return len({c for c in s.lower() if c in 'bcdfghjklmnpqrstvwxyz'})"
   ]
  },
  {
   "cell_type": "markdown",
   "metadata": {},
   "source": [
    "create set with chars if they are in string of constanants\n"
   ]
  },
  {
   "cell_type": "markdown",
   "metadata": {},
   "source": [
    "---\n",
    "##### Form The Minimum\n",
    "\n",
    "Given a list of digits, return the smallest number that could be formed from these digits, using the digits only once (= ignore duplicates).\n",
    "\n",
    "Note: Only positive integers will be passed to the function (> 0 ), no negatives or zeros.\n",
    "Examples\n",
    "\n",
    "[1, 3, 1]  ==> 13\n",
    "\n",
    "[5, 7, 5, 9, 7]  ==> 579\n",
    "\n",
    "[1, 9, 3, 1, 7, 4, 6, 6, 7] ==> 134679\n"
   ]
  },
  {
   "cell_type": "code",
   "execution_count": 74,
   "metadata": {},
   "outputs": [
    {
     "data": {
      "text/plain": [
       "134679"
      ]
     },
     "execution_count": 74,
     "metadata": {},
     "output_type": "execute_result"
    }
   ],
   "source": [
    "def form_min(li):\n",
    "    return int(''.join([str(i) for i in sorted(list(set(li)))]))\n",
    "\n",
    "form_min([1, 9, 3, 1, 7, 4, 6, 6, 7])"
   ]
  },
  {
   "cell_type": "markdown",
   "metadata": {},
   "source": [
    "##### Lessons Learned"
   ]
  },
  {
   "cell_type": "code",
   "execution_count": 75,
   "metadata": {},
   "outputs": [],
   "source": [
    "def min_value(digits):\n",
    "     return int(\"\".join(map(str,sorted(set(digits)))))"
   ]
  },
  {
   "cell_type": "markdown",
   "metadata": {},
   "source": [
    " ...  `sorted()` can be used on a set >> returns a sorted list\n",
    "\n",
    " ...  use map to caste each element as a string"
   ]
  },
  {
   "cell_type": "code",
   "execution_count": 76,
   "metadata": {},
   "outputs": [],
   "source": [
    "minValue = lambda a: int(''.join(sorted(str(c) for c in set(a))))"
   ]
  },
  {
   "cell_type": "markdown",
   "metadata": {},
   "source": [
    "therefore\n",
    "\n",
    "no need to convert set to list, can be sorted as a set\n",
    "\n",
    "no need for square brackets"
   ]
  },
  {
   "cell_type": "code",
   "execution_count": 82,
   "metadata": {},
   "outputs": [
    {
     "data": {
      "text/plain": [
       "134679"
      ]
     },
     "execution_count": 82,
     "metadata": {},
     "output_type": "execute_result"
    }
   ],
   "source": [
    "def form_min(li):\n",
    "    return int(''.join(str(i) for i in sorted(set(li))))\n",
    "\n",
    "form_min([1, 9, 3, 1, 7, 4, 6, 6, 7])"
   ]
  },
  {
   "cell_type": "markdown",
   "metadata": {},
   "source": [
    "---\n",
    "##### prime palindrome\n",
    "list the prime numbers that are palindromes as well"
   ]
  },
  {
   "cell_type": "code",
   "execution_count": 12,
   "metadata": {},
   "outputs": [
    {
     "data": {
      "text/plain": [
       "[0, 1, 2, 3, 5, 7, 11, 101, 131, 151, 181, 191]"
      ]
     },
     "execution_count": 12,
     "metadata": {},
     "output_type": "execute_result"
    }
   ],
   "source": [
    "def is_prime(num):\n",
    "    for i in range(2,num):\n",
    "        if num %i == 0:\n",
    "            return False\n",
    "    return True\n",
    "\n",
    "def prime_palindrome(num):\n",
    "    pali=[]\n",
    "    for i in range(num):\n",
    "        if is_prime(i) and str(i) == str(i)[::-1]:\n",
    "            pali.append(i)\n",
    "    return pali\n",
    "\n",
    "\n",
    "\n",
    "def prime_palindrome2(num):\n",
    "    return [i for i in range(num) if (is_prime(i) and str(i) == str(i)[::-1])]\n",
    "\n",
    "prime_palindrome2(300)"
   ]
  },
  {
   "cell_type": "markdown",
   "metadata": {},
   "source": [
    "---"
   ]
  },
  {
   "cell_type": "markdown",
   "metadata": {},
   "source": [
    "#### Vowel Count"
   ]
  },
  {
   "cell_type": "code",
   "execution_count": 14,
   "metadata": {},
   "outputs": [
    {
     "data": {
      "text/plain": [
       "7"
      ]
     },
     "execution_count": 14,
     "metadata": {},
     "output_type": "execute_result"
    }
   ],
   "source": [
    "def vowel_count(s):\n",
    "    return len([char for char in s if char in ['a','e','i','o','u']])\n",
    "\n",
    "\n",
    "s = 'how many vowels in this string'\n",
    "vowel_count(s)"
   ]
  },
  {
   "cell_type": "markdown",
   "metadata": {},
   "source": [
    "#### Lessons learned\n",
    "\n",
    "I can use string instead of list"
   ]
  },
  {
   "cell_type": "code",
   "execution_count": null,
   "metadata": {},
   "outputs": [],
   "source": [
    "def vowel_count(s):\n",
    "    return len([char for char in s if char in ['aeiou']])"
   ]
  },
  {
   "cell_type": "markdown",
   "metadata": {},
   "source": [
    "`sum() the str.count()`"
   ]
  },
  {
   "cell_type": "code",
   "execution_count": null,
   "metadata": {},
   "outputs": [],
   "source": [
    "vowel_count = lambda s: sum(s.count(i) for i in 'aeiou')"
   ]
  },
  {
   "cell_type": "markdown",
   "metadata": {},
   "source": [
    "---\n",
    "#### Sum of Multiples of 3 or 5"
   ]
  },
  {
   "cell_type": "markdown",
   "metadata": {},
   "source": [
    "If we list all the natural numbers below 10 that are multiples of 3 or 5, we get 3, 5, 6 and 9. The sum of these multiples is 23.\n",
    "\n",
    "Finish the solution so that it returns the sum of all the multiples of 3 or 5 below the number passed in.\n",
    "\n",
    "    Note: If the number is a multiple of both 3 and 5, only count it once.\n"
   ]
  },
  {
   "cell_type": "code",
   "execution_count": 24,
   "metadata": {},
   "outputs": [
    {
     "data": {
      "text/plain": [
       "23"
      ]
     },
     "execution_count": 24,
     "metadata": {},
     "output_type": "execute_result"
    }
   ],
   "source": [
    "def multi3_5(num):\n",
    "    mults=[]\n",
    "    for i in range(num):\n",
    "        if (i%15==0) or (i%5==0) or (i%3==0):\n",
    "            mults.append(i)\n",
    "    return sum(mults)\n",
    "\n",
    "#multi3_5(10)\n",
    "\n",
    "def multi3_5_2(num):\n",
    "    return sum([i for i in range(num) if not(i%5) or not(i%3)])\n",
    "\n",
    "\n",
    "multi3_5_2(10)\n",
    "        \n",
    "        \n",
    "            "
   ]
  },
  {
   "cell_type": "markdown",
   "metadata": {},
   "source": [
    "---\n",
    "#### MiddleLetter\n",
    "return the middle letter if the word is odd, otherwise middle two "
   ]
  },
  {
   "cell_type": "code",
   "execution_count": 45,
   "metadata": {},
   "outputs": [],
   "source": [
    "def get_middle(s):\n",
    "    return s[len(s)//2] if len(s)%2 else  s[len(s)//2-1:len(s)//2+1]\n"
   ]
  },
  {
   "cell_type": "markdown",
   "metadata": {},
   "source": [
    "---\n",
    "#### find the 101st character"
   ]
  },
  {
   "cell_type": "code",
   "execution_count": 2,
   "metadata": {},
   "outputs": [],
   "source": [
    "s=\"Aenean commodo ligula eget dolor. Aenean massa. Cum sociis natoque penatibus et magnis dis parturient montes, nascetur ridiculus mus. Donec quam felis, ultricies nec, pellentesque eu, pretium quis, sem. Nulla consequat massa quis enim. Donec pede justo, fringilla vel, aliquet nec, vulputate eget, arcu. Etiam ultricies nisi vel augue. Curabitur ullamcorper ultricies nisi. Nam eget dui. Etiam rhoncus. Aenean commodo ligula eget dolor. Aenean massa. Cum sociis natoque penatibus et magnis dis parturient python, nascetur ridiculus mus. Donec quam felis, ultricies nec, pellentesque eu, pretium quis, sem. Nulla consequat massa quis enim. Donec pede justo, fringilla vel, aliquet nec, vulputate eget, arcu. Etiam ultricies nisi vel augue. Curabitur ullamcorper ultricies nisi. Nam eget dui. Etiam rhoncus. Cum sociis natoque penatibus et magnis dis parturient montes, nascetur ridiculus mus. Donec quam felis, ultricies nec, pellentesque eu, pretium quis, baxa quouq. axa la consequat massa quis enim. Donec pede justo, fringilla vel, aliquet nec, vulputate eget, arcu. Etiam ultricies nisi vel augue. Curabitur ullamcorper ultricies nisi. Proin at neque et tellus ultricies consequat. Duis vitae mi commodo, suscipit nunc vel, porta tellus. In eu volutpat sapien. Mauris dignissim velit eget diam tristique, nec egestas magna maximus. Pellentesque python, lorem a eleifend vehicula, arcu urna facilisis odio, maximus maximus massa nisl sed sapien. Quisque nisi nunc, dignissim ut malesuada non, fringilla vitae sem. Nunc turpis quam, rutrum at egestas ut, pretium tincidunt est. Praesent imperdiet mauris eu felis lobortis vehicula. Sed dictum lorem at rutrum rhoncus. Suspendisse sit amet ex ac eros python cursus. Duis pretium rutrum lacus, sit amet vulputate ipsum condimentum vel. Vivamus lacus ipsum, python in justo quis, blandit condimentum velit esed semper posuere leo, elementum tristique leo euismod quis.\"\n"
   ]
  },
  {
   "cell_type": "code",
   "execution_count": 27,
   "metadata": {},
   "outputs": [
    {
     "data": {
      "text/plain": [
       "1638"
      ]
     },
     "execution_count": 27,
     "metadata": {},
     "output_type": "execute_result"
    }
   ],
   "source": [
    "char = \"\".join(x for x in s.split())\n",
    "len(char)"
   ]
  },
  {
   "cell_type": "code",
   "execution_count": 16,
   "metadata": {},
   "outputs": [],
   "source": [
    "import string"
   ]
  },
  {
   "cell_type": "code",
   "execution_count": 22,
   "metadata": {},
   "outputs": [
    {
     "data": {
      "text/plain": [
       "'abcdefghijklmnopqrstuvwxyz'"
      ]
     },
     "execution_count": 22,
     "metadata": {},
     "output_type": "execute_result"
    }
   ],
   "source": [
    "string.ascii_lowercase"
   ]
  },
  {
   "cell_type": "code",
   "execution_count": 28,
   "metadata": {},
   "outputs": [],
   "source": [
    "count =0\n",
    "for c in s:\n",
    "    if c in string.ascii_lowercase:\n",
    "        count +=1"
   ]
  },
  {
   "cell_type": "code",
   "execution_count": 29,
   "metadata": {},
   "outputs": [
    {
     "data": {
      "text/plain": [
       "1522"
      ]
     },
     "execution_count": 29,
     "metadata": {},
     "output_type": "execute_result"
    }
   ],
   "source": [
    "count"
   ]
  },
  {
   "cell_type": "code",
   "execution_count": 30,
   "metadata": {},
   "outputs": [
    {
     "data": {
      "text/plain": [
       "1917"
      ]
     },
     "execution_count": 30,
     "metadata": {},
     "output_type": "execute_result"
    }
   ],
   "source": [
    "len(s)"
   ]
  },
  {
   "cell_type": "code",
   "execution_count": 3,
   "metadata": {},
   "outputs": [
    {
     "data": {
      "text/plain": [
       "1559"
      ]
     },
     "execution_count": 3,
     "metadata": {},
     "output_type": "execute_result"
    }
   ],
   "source": [
    "chars = [x for x in s if x.isalpha()]\n",
    "len(chars)"
   ]
  },
  {
   "cell_type": "code",
   "execution_count": null,
   "metadata": {},
   "outputs": [],
   "source": []
  }
 ],
 "metadata": {
  "kernelspec": {
   "display_name": "Python 3",
   "language": "python",
   "name": "python3"
  },
  "language_info": {
   "codemirror_mode": {
    "name": "ipython",
    "version": 3
   },
   "file_extension": ".py",
   "mimetype": "text/x-python",
   "name": "python",
   "nbconvert_exporter": "python",
   "pygments_lexer": "ipython3",
   "version": "3.6.2"
  }
 },
 "nbformat": 4,
 "nbformat_minor": 2
}
