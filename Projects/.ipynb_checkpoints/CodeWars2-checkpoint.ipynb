{
 "cells": [
  {
   "cell_type": "markdown",
   "metadata": {},
   "source": [
    "##### Sum_of_int\n",
    "Implement a function that calculates the sum of the integers inside a string. \n",
    "\n",
    "For example, in the string \"The30quick20brown10f0x1203jumps914ov3r1349the102l4zy dog\", \n",
    "\n",
    "the sum of the integers is __3635__."
   ]
  },
  {
   "cell_type": "markdown",
   "metadata": {},
   "source": [
    "___\n",
    "Procedure:\n",
    "\n",
    "     replace letters with ' '\n",
    "\n",
    "    .split()\n",
    "    \n",
    "    sum()"
   ]
  },
  {
   "cell_type": "code",
   "execution_count": 74,
   "metadata": {},
   "outputs": [
    {
     "data": {
      "text/plain": [
       "3635"
      ]
     },
     "execution_count": 74,
     "metadata": {},
     "output_type": "execute_result"
    }
   ],
   "source": [
    "def sum_of_int(s):\n",
    "    nums = ''.join(c if c.isdigit() else ' ' for c in s).split()\n",
    "    return sum(int(i) for i in nums)\n",
    "\n",
    "st=\"The30quick20brown10f0x1203jumps914ov3r1349the102l4zy dog\"\n",
    "sum_of_int(st)"
   ]
  },
  {
   "cell_type": "code",
   "execution_count": 73,
   "metadata": {
    "collapsed": true
   },
   "outputs": [],
   "source": [
    "def sum_of_integers_in_string(s):\n",
    "    return sum(map(int, ''.join(c if c.isdigit() else ' ' for c in s).split()))"
   ]
  },
  {
   "cell_type": "markdown",
   "metadata": {},
   "source": [
    "###### Lessons Learned:\n",
    "\n",
    "I made the second loop in order to convert each element into an integer.\n",
    "\n",
    "should have used map(): \n",
    "`return sum(map(int, nums))`"
   ]
  },
  {
   "cell_type": "markdown",
   "metadata": {},
   "source": [
    "Breaking it down and explaining it for a colleague: "
   ]
  },
  {
   "cell_type": "code",
   "execution_count": 61,
   "metadata": {},
   "outputs": [
    {
     "data": {
      "text/plain": [
       "3635"
      ]
     },
     "execution_count": 61,
     "metadata": {},
     "output_type": "execute_result"
    }
   ],
   "source": [
    "def sum_of_int2(s):\n",
    "    nums = ''\n",
    "    sum = 0\n",
    "    for c in s:\n",
    "        if c.isdigit():\n",
    "            nums += c\n",
    "        else:\n",
    "            nums += ' '\n",
    "    num_list = nums.split()\n",
    "    for i in num_list:\n",
    "        sum += int(i)\n",
    "    return sum\n",
    "\n",
    "st=\"The30quick20brown10f0x1203jumps914ov3r1349the102l4zy dog\"\n",
    "sum_of_int2(st)"
   ]
  },
  {
   "cell_type": "markdown",
   "metadata": {},
   "source": [
    "An easier alternative using regex"
   ]
  },
  {
   "cell_type": "code",
   "execution_count": 78,
   "metadata": {
    "collapsed": true
   },
   "outputs": [],
   "source": [
    "import re\n",
    "\n",
    "def sum_of_integers_in_string(s):\n",
    "    return sum(map(int, re.findall(\"\\d+\", s)))"
   ]
  },
  {
   "cell_type": "markdown",
   "metadata": {},
   "source": [
    "---\n",
    "##### Convert number to reversed array of digits\n",
    "You have to return the digits of this number within an array in reverse order.\n",
    "\n",
    "Example:\n",
    "348597 => [7,9,5,8,4,3]"
   ]
  },
  {
   "cell_type": "code",
   "execution_count": 101,
   "metadata": {},
   "outputs": [
    {
     "data": {
      "text/plain": [
       "[1, 3, 2, 5, 3]"
      ]
     },
     "execution_count": 101,
     "metadata": {},
     "output_type": "execute_result"
    }
   ],
   "source": [
    "digitize(35231)"
   ]
  },
  {
   "cell_type": "code",
   "execution_count": 100,
   "metadata": {},
   "outputs": [],
   "source": [
    "def digitize(n):\n",
    "    return [int(i) for i in str(n)][::-1]"
   ]
  },
  {
   "cell_type": "markdown",
   "metadata": {},
   "source": [
    "###### Lesson Learned:\n",
    "map useful for replacing for loop to convert __each element__ to int\n",
    "\n",
    "or rather to _map a function on each element of an array_"
   ]
  },
  {
   "cell_type": "code",
   "execution_count": 99,
   "metadata": {},
   "outputs": [],
   "source": [
    "def digitize(n):\n",
    "    return map(int, str(n)[::-1])"
   ]
  },
  {
   "cell_type": "markdown",
   "metadata": {},
   "source": [
    "___\n",
    "##### Sum of Multiples\n",
    "Find the sum of all multiples of n below m\n",
    "\n",
    "n and m are natural numbers (positive integers)\n",
    "\n",
    "m is excluded from the multiples\n",
    "\n",
    "Examples\n",
    "\n",
    "sumMul(2, 9)   ==> 2 + 4 + 6 + 8 = 20\n",
    "\n",
    "sumMul(3, 13)  ==> 3 + 6 + 9 + 12 = 30\n",
    "\n",
    "sumMul(4, 123) ==> 4 + 8 + 12 + ... = 1860\n",
    "\n",
    "sumMul(4, -7)  ==> \"INVALID\""
   ]
  },
  {
   "cell_type": "code",
   "execution_count": 130,
   "metadata": {},
   "outputs": [
    {
     "data": {
      "text/plain": [
       "1860"
      ]
     },
     "execution_count": 130,
     "metadata": {},
     "output_type": "execute_result"
    }
   ],
   "source": [
    "# iteration 1:\n",
    "def sum_mul(n, m):\n",
    "    tot=0\n",
    "    for i in range(n,m,n):\n",
    "        tot += i\n",
    "    return tot"
   ]
  },
  {
   "cell_type": "code",
   "execution_count": 136,
   "metadata": {},
   "outputs": [
    {
     "data": {
      "text/plain": [
       "1860"
      ]
     },
     "execution_count": 136,
     "metadata": {},
     "output_type": "execute_result"
    }
   ],
   "source": [
    "# iteration 2:\n",
    "def sum_mul(n, m):\n",
    "    if n <= 0 or m <=0: return 'INVALID'\n",
    "    return sum(i for i in range(n,m,n))"
   ]
  },
  {
   "cell_type": "code",
   "execution_count": 143,
   "metadata": {},
   "outputs": [],
   "source": [
    "# iteration 3:\n",
    "def sum_mul(n, m):\n",
    "    return sum(range(n,m,n)) if n>0 and m>0 else 'INVALID'"
   ]
  },
  {
   "cell_type": "markdown",
   "metadata": {},
   "source": [
    "---\n",
    "##### Animal sounds\n",
    "a function speak that returns a sound, defaults to dog, returns \"?\" if not any of the animals "
   ]
  },
  {
   "cell_type": "code",
   "execution_count": null,
   "metadata": {},
   "outputs": [],
   "source": [
    "# Define speak below:\n",
    "def speak(animal=\"dog\"):\n",
    "    if animal == \"pig\": return \"oink\"\n",
    "    elif animal == \"duck\": return \"quack\"\n",
    "    elif animal == 'cat': return \"meow\"\n",
    "    elif animal == 'dog': return 'woof'\n",
    "    else: return \"?\""
   ]
  },
  {
   "cell_type": "code",
   "execution_count": null,
   "metadata": {},
   "outputs": [],
   "source": [
    "def speak(animal=\"dog\"):\n",
    "    sound = {\"pig\":\"oink\", \"duck\":\"quack\", \"cat\":\"meow\", \"dog\":\"woof\"}\n",
    "    return sound.get(animal,\"?\")"
   ]
  },
  {
   "cell_type": "markdown",
   "metadata": {},
   "source": [
    "---\n",
    "#### Day of week\n",
    "input integer (1-7) and return day of week (Sun-Mon)"
   ]
  },
  {
   "cell_type": "code",
   "execution_count": null,
   "metadata": {
    "collapsed": true
   },
   "outputs": [],
   "source": [
    "def return_day(num):\n",
    "    day = {1:'Sunday', 2:'Monday', 3:'Tuesday', 4:'Wednesday', 5:'Thursday', 6:'Friday', 7:'Saturday'}\n",
    "    return day.get(num, None)"
   ]
  },
  {
   "cell_type": "markdown",
   "metadata": {},
   "source": [
    "---\n",
    "##### last element\n",
    "Return last element of list if empty return None"
   ]
  },
  {
   "cell_type": "code",
   "execution_count": null,
   "metadata": {},
   "outputs": [],
   "source": [
    "def last_element(li):\n",
    "    return li[-1] if len(li)>0 else None"
   ]
  },
  {
   "cell_type": "code",
   "execution_count": null,
   "metadata": {},
   "outputs": [],
   "source": [
    "#alternative\n",
    "def last_element(li):\n",
    "    if li:\n",
    "        return li[-1]\n",
    "    else:\n",
    "        return None"
   ]
  },
  {
   "cell_type": "markdown",
   "metadata": {},
   "source": [
    "---\n",
    "##### multiple_letter_count\n",
    "takes in a string and returns a dictionary with a count of each letter in the string"
   ]
  },
  {
   "cell_type": "code",
   "execution_count": null,
   "metadata": {},
   "outputs": [],
   "source": [
    "'''\n",
    "multiple_letter_count(\"awesome\") # {'a': 1, 'e': 2, 'm': 1, 'o': 1, 's': 1, 'w': 1}\n",
    "'''\n",
    "\n",
    "# flesh out multiple_letter count:\n",
    "def multiple_letter_count(string):\n",
    "    ltr_count = {}\n",
    "    for letter in string:\n",
    "        if letter not in ltr_count:\n",
    "            ltr_count[letter] = 1\n",
    "        else: ltr_count[letter] += 1\n",
    "    return ltr_count"
   ]
  },
  {
   "cell_type": "code",
   "execution_count": null,
   "metadata": {},
   "outputs": [],
   "source": [
    "#better dictionary comprehension\n",
    "def multiple_letter_count(string):\n",
    "    return {letter: string.count(letter) for letter in string}"
   ]
  },
  {
   "cell_type": "markdown",
   "metadata": {},
   "source": [
    "---\n",
    "##### Palindrome \n",
    "check if string is palindrome,<br>\n",
    "optional check without spaces and cases"
   ]
  },
  {
   "cell_type": "code",
   "execution_count": 2,
   "metadata": {},
   "outputs": [],
   "source": [
    "'''\n",
    "is_palindrome('testing') # False\n",
    "is_palindrome('tacocat') # True\n",
    "is_palindrome('hannah') # True\n",
    "is_palindrome('robert') # False\n",
    "is_palindrome('amanaplanacanalpanama') # True\n",
    "'''\n",
    "\n",
    "def is_palindrome(string):\n",
    "    palin = \"\".join(c.lower() for c in string if c.isalpha())\n",
    "    return palin == palin[::-1]"
   ]
  },
  {
   "cell_type": "markdown",
   "metadata": {},
   "source": [
    "---\n",
    "##### Return values that are in both lists"
   ]
  },
  {
   "cell_type": "code",
   "execution_count": 3,
   "metadata": {},
   "outputs": [],
   "source": [
    "#manual looping\n",
    "def intersection(l1, l2):\n",
    "    in_common = []\n",
    "    for val in l1:\n",
    "        if val in l2:\n",
    "            in_common.append(val)\n",
    "    return in_common"
   ]
  },
  {
   "cell_type": "code",
   "execution_count": null,
   "metadata": {},
   "outputs": [],
   "source": [
    "def intersection(l1,l2):\n",
    "    return [x for x in l1 if x in l2]"
   ]
  },
  {
   "cell_type": "code",
   "execution_count": null,
   "metadata": {},
   "outputs": [],
   "source": [
    "#even more efficient\n",
    "def intersection(l1,l2):\n",
    "    return [x for x in set(l1) & set(l2)]"
   ]
  },
  {
   "cell_type": "markdown",
   "metadata": {},
   "source": [
    "---\n",
    "##### Calculate\n",
    "Calculate Walkthrough    _very cool problem to redo_\n",
    "\n",
    "This solution uses dict.get() a lot. dict.get('first')  will return the value of 'first' if it exists, otherwise it returns None.  However, you can specify a second argument which will replace None as the default value. I use that in this solution a bunch of times.\n",
    "\n",
    "I defined a dictionary called operation_lookup  that maps a string like \"add\" to an actual mathematical operation involving the values of 'first' and 'second'\n",
    "\n",
    "I create a boolean variable called is_float, which is True if kwargs contains 'make_float', otherwise it's false\n",
    "\n",
    "Then I lookup the correct value from the operation_lookup dict using the operation that was specified in kwargs\n",
    "Basically, turning something like \"subtract\" into:kwargs.get('first', 0) - kwargs.get('second', 0) \n",
    "Which in turns simplifies to a number\n",
    "\n",
    "I store the result in a variable called operation_value \n",
    "I return a string containing either the specified message or the default 'The result is' string.  \n",
    "Whether operation_value  is interpolated as a float or int is determined by the is_float  variable.\n",
    "\n",
    "__Note:__ this solution will divide by zero if a 2nd argument isn't provided for divide.  You may want to change the default value to 1.  We learn how to handle ZeroDivisionErrors later on in the course.  Thanks, Scott for pointing out the issue!\n",
    "\n",
    "``` python\n",
    "def calculate(**kwargs):\n",
    "    operation_lookup = {\n",
    "        'add': kwargs.get('first', 0) + kwargs.get('second', 0),\n",
    "        'subtract': kwargs.get('first', 0) - kwargs.get('second', 0),\n",
    "        'divide': kwargs.get('first', 0) / kwargs.get('second', 0),\n",
    "        'multiply': kwargs.get('first', 0) * kwargs.get('second', 0)\n",
    "    }\n",
    "    is_float = kwargs.get('make_float', False)\n",
    "    operation_value = operation_lookup[kwargs.get('operation', '')]\n",
    "    if is_float:\n",
    "        final = \"{} {}\".format(kwargs.get('message','The result is'), float(operation_value))\n",
    "    else:\n",
    "        final = \"{} {}\".format(kwargs.get('message','The result is'), int(operation_value))\n",
    "    return final\n",
    "```"
   ]
  },
  {
   "cell_type": "code",
   "execution_count": null,
   "metadata": {},
   "outputs": [],
   "source": []
  }
 ],
 "metadata": {
  "kernelspec": {
   "display_name": "Python 3",
   "language": "python",
   "name": "python3"
  },
  "language_info": {
   "codemirror_mode": {
    "name": "ipython",
    "version": 3
   },
   "file_extension": ".py",
   "mimetype": "text/x-python",
   "name": "python",
   "nbconvert_exporter": "python",
   "pygments_lexer": "ipython3",
   "version": "3.6.2"
  }
 },
 "nbformat": 4,
 "nbformat_minor": 2
}
