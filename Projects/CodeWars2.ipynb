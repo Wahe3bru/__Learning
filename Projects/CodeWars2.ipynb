{
 "cells": [
  {
   "cell_type": "markdown",
   "metadata": {},
   "source": [
    "##### Sum_of_int\n",
    "Implement a function that calculates the sum of the integers inside a string. \n",
    "\n",
    "For example, in the string \"The30quick20brown10f0x1203jumps914ov3r1349the102l4zy dog\", \n",
    "\n",
    "the sum of the integers is __3635__."
   ]
  },
  {
   "cell_type": "markdown",
   "metadata": {},
   "source": [
    "___\n",
    "Procedure:\n",
    "\n",
    "     replace letters with ' '\n",
    "\n",
    "    .split()\n",
    "    \n",
    "    sum()"
   ]
  },
  {
   "cell_type": "code",
   "execution_count": 74,
   "metadata": {},
   "outputs": [
    {
     "data": {
      "text/plain": [
       "3635"
      ]
     },
     "execution_count": 74,
     "metadata": {},
     "output_type": "execute_result"
    }
   ],
   "source": [
    "def sum_of_int(s):\n",
    "    nums = ''.join(c if c.isdigit() else ' ' for c in s).split()\n",
    "    return sum(int(i) for i in nums)\n",
    "\n",
    "st=\"The30quick20brown10f0x1203jumps914ov3r1349the102l4zy dog\"\n",
    "sum_of_int(st)"
   ]
  },
  {
   "cell_type": "code",
   "execution_count": 73,
   "metadata": {
    "collapsed": true
   },
   "outputs": [],
   "source": [
    "def sum_of_integers_in_string(s):\n",
    "    return sum(map(int, ''.join(c if c.isdigit() else ' ' for c in s).split()))"
   ]
  },
  {
   "cell_type": "markdown",
   "metadata": {},
   "source": [
    "###### Lessons Learned:\n",
    "\n",
    "I made the second loop in order to convert each element into an integer.\n",
    "\n",
    "should have used map(): \n",
    "`return sum(map(int, nums))`"
   ]
  },
  {
   "cell_type": "markdown",
   "metadata": {},
   "source": [
    "Breaking it down and explaining it for a colleague: "
   ]
  },
  {
   "cell_type": "code",
   "execution_count": 61,
   "metadata": {},
   "outputs": [
    {
     "data": {
      "text/plain": [
       "3635"
      ]
     },
     "execution_count": 61,
     "metadata": {},
     "output_type": "execute_result"
    }
   ],
   "source": [
    "def sum_of_int2(s):\n",
    "    nums = ''\n",
    "    sum = 0\n",
    "    for c in s:\n",
    "        if c.isdigit():\n",
    "            nums += c\n",
    "        else:\n",
    "            nums += ' '\n",
    "    num_list = nums.split()\n",
    "    for i in num_list:\n",
    "        sum += int(i)\n",
    "    return sum\n",
    "\n",
    "st=\"The30quick20brown10f0x1203jumps914ov3r1349the102l4zy dog\"\n",
    "sum_of_int2(st)"
   ]
  },
  {
   "cell_type": "markdown",
   "metadata": {},
   "source": [
    "An easier alternative using regex"
   ]
  },
  {
   "cell_type": "code",
   "execution_count": 78,
   "metadata": {
    "collapsed": true
   },
   "outputs": [],
   "source": [
    "import re\n",
    "\n",
    "def sum_of_integers_in_string(s):\n",
    "    return sum(map(int, re.findall(\"\\d+\", s)))"
   ]
  },
  {
   "cell_type": "markdown",
   "metadata": {},
   "source": [
    "---\n",
    "##### Convert number to reversed array of digits\n",
    "You have to return the digits of this number within an array in reverse order.\n",
    "\n",
    "Example:\n",
    "348597 => [7,9,5,8,4,3]"
   ]
  },
  {
   "cell_type": "code",
   "execution_count": 101,
   "metadata": {},
   "outputs": [
    {
     "data": {
      "text/plain": [
       "[1, 3, 2, 5, 3]"
      ]
     },
     "execution_count": 101,
     "metadata": {},
     "output_type": "execute_result"
    }
   ],
   "source": [
    "digitize(35231)"
   ]
  },
  {
   "cell_type": "code",
   "execution_count": 100,
   "metadata": {},
   "outputs": [],
   "source": [
    "def digitize(n):\n",
    "    return [int(i) for i in str(n)][::-1]"
   ]
  },
  {
   "cell_type": "markdown",
   "metadata": {},
   "source": [
    "###### Lesson Learned:\n",
    "map useful for replacing for loop to convert __each element__ to int\n",
    "\n",
    "or rather to _map a function on each element of an array_"
   ]
  },
  {
   "cell_type": "code",
   "execution_count": 99,
   "metadata": {},
   "outputs": [],
   "source": [
    "def digitize(n):\n",
    "    return map(int, str(n)[::-1])"
   ]
  },
  {
   "cell_type": "markdown",
   "metadata": {},
   "source": [
    "___\n",
    "##### Sum of Multiples\n",
    "Find the sum of all multiples of n below m\n",
    "\n",
    "n and m are natural numbers (positive integers)\n",
    "\n",
    "m is excluded from the multiples\n",
    "\n",
    "Examples\n",
    "\n",
    "sumMul(2, 9)   ==> 2 + 4 + 6 + 8 = 20\n",
    "\n",
    "sumMul(3, 13)  ==> 3 + 6 + 9 + 12 = 30\n",
    "\n",
    "sumMul(4, 123) ==> 4 + 8 + 12 + ... = 1860\n",
    "\n",
    "sumMul(4, -7)  ==> \"INVALID\""
   ]
  },
  {
   "cell_type": "code",
   "execution_count": 130,
   "metadata": {},
   "outputs": [
    {
     "data": {
      "text/plain": [
       "1860"
      ]
     },
     "execution_count": 130,
     "metadata": {},
     "output_type": "execute_result"
    }
   ],
   "source": [
    "# iteration 1:\n",
    "def sum_mul(n, m):\n",
    "    tot=0\n",
    "    for i in range(n,m,n):\n",
    "        tot += i\n",
    "    return tot"
   ]
  },
  {
   "cell_type": "code",
   "execution_count": 136,
   "metadata": {},
   "outputs": [
    {
     "data": {
      "text/plain": [
       "1860"
      ]
     },
     "execution_count": 136,
     "metadata": {},
     "output_type": "execute_result"
    }
   ],
   "source": [
    "# iteration 2:\n",
    "def sum_mul(n, m):\n",
    "    if n <= 0 or m <=0: return 'INVALID'\n",
    "    return sum(i for i in range(n,m,n))"
   ]
  },
  {
   "cell_type": "code",
   "execution_count": 143,
   "metadata": {},
   "outputs": [],
   "source": [
    "# iteration 3:\n",
    "def sum_mul(n, m):\n",
    "    return sum(range(n,m,n)) if n>0 and m>0 else 'INVALID'"
   ]
  },
  {
   "cell_type": "code",
   "execution_count": null,
   "metadata": {
    "collapsed": true
   },
   "outputs": [],
   "source": []
  }
 ],
 "metadata": {
  "kernelspec": {
   "display_name": "Python 3",
   "language": "python",
   "name": "python3"
  },
  "language_info": {
   "codemirror_mode": {
    "name": "ipython",
    "version": 3
   },
   "file_extension": ".py",
   "mimetype": "text/x-python",
   "name": "python",
   "nbconvert_exporter": "python",
   "pygments_lexer": "ipython3",
   "version": "3.6.4"
  }
 },
 "nbformat": 4,
 "nbformat_minor": 2
}
