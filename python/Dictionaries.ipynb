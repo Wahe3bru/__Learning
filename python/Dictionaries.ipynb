{
 "cells": [
  {
   "cell_type": "markdown",
   "metadata": {},
   "source": [
    "# Dictionaries"
   ]
  },
  {
   "cell_type": "markdown",
   "metadata": {},
   "source": [
    "#### Accessing values in a dict\n",
    "- dict.values()\n",
    "- dict.keys()\n",
    "- dict.items()\n",
    "\n",
    "#### Dictionary methods\n",
    "- in - check if dict has the key\n",
    "- clear\n",
    "- copy\n",
    "- fromkeys\n",
    "- get\n",
    "- pop\n",
    "- popitems\n",
    "- update\n",
    "\n"
   ]
  },
  {
   "cell_type": "markdown",
   "metadata": {},
   "source": [
    "### create a dictionary"
   ]
  },
  {
   "cell_type": "code",
   "execution_count": 2,
   "metadata": {},
   "outputs": [],
   "source": [
    "new_dict = {}\n",
    "\n",
    "#alternative\n",
    "new_dict2 = dict()"
   ]
  },
  {
   "cell_type": "code",
   "execution_count": 1,
   "metadata": {},
   "outputs": [],
   "source": [
    "person = {\"first\":\"wally\", \"last\": \"Aghers\", \"Age\":33}"
   ]
  },
  {
   "cell_type": "markdown",
   "metadata": {},
   "source": [
    "### Accessing values in a dict"
   ]
  },
  {
   "cell_type": "code",
   "execution_count": null,
   "metadata": {},
   "outputs": [],
   "source": [
    "artist = {\n",
    "    \"first\": \"Neil\",\n",
    "    \"last\": \"Young\",\n",
    "}\n",
    " \n",
    "# concat first and last name with a space\n",
    "full_name = artist[\"first\"] + \" \" + artist[\"last\"]\n",
    "\n",
    "# using format()\n",
    "full_name = \"{} {}\".format(artist['first'],artist['last'])"
   ]
  },
  {
   "cell_type": "markdown",
   "metadata": {},
   "source": [
    "#### Looping through values in a dict"
   ]
  },
  {
   "cell_type": "code",
   "execution_count": null,
   "metadata": {},
   "outputs": [],
   "source": [
    "donations = dict(sam=25.0, lena=88.99, chuck=13.0, linus=99.5, stan=150.0, lisa=50.25, harrison=10.0)\n",
    "\n",
    "\n",
    "# Use a loop to add together all the donations and store the resulting number\n",
    "total_donations = sum(v for v in donations.values())"
   ]
  },
  {
   "cell_type": "markdown",
   "metadata": {},
   "source": [
    "### Dictionary methods\n"
   ]
  },
  {
   "cell_type": "markdown",
   "metadata": {},
   "source": [
    "#### Check if item in dictionary\n",
    "Use `in` to test if value is contained in dictionary (no error thrown if not)"
   ]
  },
  {
   "cell_type": "code",
   "execution_count": 6,
   "metadata": {},
   "outputs": [
    {
     "name": "stdout",
     "output_type": "stream",
     "text": [
      "1 left of morning bun\n"
     ]
    }
   ],
   "source": [
    "# This code picks a random food item:\n",
    "from random import choice \n",
    "food = choice([\"cheese pizza\", \"quiche\",\"morning bun\",\"gummy bear\",\"tea cake\"]) #DON'T CHANGE!\n",
    " \n",
    "bakery_stock = {\n",
    "    \"almond croissant\" : 12,\n",
    "    \"toffee cookie\": 3,\n",
    "    \"morning bun\": 1,\n",
    "    \"chocolate chunk cookie\": 9,\n",
    "    \"tea cake\": 25\n",
    "}\n",
    "\n",
    "if food in bakery_stock:\n",
    "    print(f\"{bakery_stock[food]} left of {food}\")\n",
    "else:\n",
    "    print(\"We don't make that\")"
   ]
  },
  {
   "cell_type": "markdown",
   "metadata": {},
   "source": [
    "#### Solution using get()\n",
    "\n",
    "We can do the same thing using `get()` and storing the result to a variable. <br> The variable will either contain the corresponding value from the dictionary OR None.  <br>We can write a simple conditional check:"
   ]
  },
  {
   "cell_type": "code",
   "execution_count": null,
   "metadata": {},
   "outputs": [],
   "source": [
    "quantity = bakery_stock.get(food)\n",
    "if quantity:\n",
    "    print(\"{} left\".format(quantity))\n",
    "else:\n",
    "    print(\"we don't make that\")"
   ]
  },
  {
   "cell_type": "markdown",
   "metadata": {},
   "source": [
    "##### fromkeys()\n",
    "use fromkeys() to generate a dictionary from a list of keys,<br> initialise to 0"
   ]
  },
  {
   "cell_type": "code",
   "execution_count": null,
   "metadata": {},
   "outputs": [],
   "source": [
    "game_properties = [\n",
    "    \"current_score\",\n",
    "    \"high_score\",\n",
    "    \"number_of_lives\",\n",
    "    \"items_in_inventory\",\n",
    "    \"power_ups\",\n",
    "    \"ammo\",\n",
    "    \"enemies_on_screen\",\n",
    "    \"enemy_kills\",\n",
    "    \"enemy_kill_streaks\",\n",
    "    \"minutes_played\",\n",
    "    \"notifications\",\n",
    "    \"achievements\"\n",
    "]\n",
    "initial_game_state = dict.fromkeys(game_properties, 0)"
   ]
  },
  {
   "cell_type": "markdown",
   "metadata": {},
   "source": [
    "- `.pop()` give it a key and returns value (removing both key,value pairs)\n",
    "- `.popitem()` randomly returns a key,value pair (removing both key,value pairs) similar to `list.pop()` but doesn't remove last item, because dictionaries are unordered\n",
    "- `.update()` will add key,value pairs and overwrite values. but won't remove keys or values"
   ]
  },
  {
   "cell_type": "code",
   "execution_count": null,
   "metadata": {},
   "outputs": [],
   "source": [
    "inventory = {'croissant': 19, 'bagel': 4, 'muffin': 8, 'cake': 1} #DON'T CHANGE THIS LINE!\n",
    "\n",
    "# Make a copy of inventory and save it to a variable called stock_list USE A DICTIONARY METHOD\n",
    "stock_list ={}\n",
    "stock_list.update(inventory)\n",
    "# or\n",
    "stock_list = inventory.copy()\n",
    "\n",
    "\n",
    "# add the value 18 to stock_list under the key \"cookie\"\n",
    "stock_list.update({\"cookie\":18})\n",
    "# or\n",
    "stock_list['cookie'] = 18\n",
    "\n",
    "\n",
    "# remove 'cake' from stock_list USE A DICTIONARY METHOD\n",
    "stock_list.pop(\"cake\")"
   ]
  },
  {
   "cell_type": "markdown",
   "metadata": {},
   "source": [
    "### Dictionary comprehension\n",
    "``` python\n",
    "{__:__ for __ in __}\n",
    "```\n",
    "can have conditionals for both the key and/or value"
   ]
  },
  {
   "cell_type": "code",
   "execution_count": 8,
   "metadata": {},
   "outputs": [
    {
     "data": {
      "text/plain": [
       "{1: 1, 2: 4, 3: 9, 4: 16, 5: 25}"
      ]
     },
     "execution_count": 8,
     "metadata": {},
     "output_type": "execute_result"
    }
   ],
   "source": [
    "nums = {num:num**2 for num in range(1,6)}\n",
    "nums"
   ]
  },
  {
   "cell_type": "code",
   "execution_count": 10,
   "metadata": {},
   "outputs": [
    {
     "data": {
      "text/plain": [
       "{1: 1.0, 2: 2.0, 3: 3.0, 4: 4.0, 5: 5.0}"
      ]
     },
     "execution_count": 10,
     "metadata": {},
     "output_type": "execute_result"
    }
   ],
   "source": [
    "# .items() used to return key and values from dict\n",
    "{key:val**0.5 for key,val in nums.items()}"
   ]
  },
  {
   "cell_type": "markdown",
   "metadata": {},
   "source": [
    "conditional logic with dict comprehension"
   ]
  },
  {
   "cell_type": "code",
   "execution_count": 11,
   "metadata": {},
   "outputs": [
    {
     "data": {
      "text/plain": [
       "{1: 'odd', 2: 'even', 3: 'odd', 4: 'even', 5: 'odd'}"
      ]
     },
     "execution_count": 11,
     "metadata": {},
     "output_type": "execute_result"
    }
   ],
   "source": [
    "{key:\"even\" if val%2==0 else \"odd\" for key,val in nums.items()}"
   ]
  },
  {
   "cell_type": "markdown",
   "metadata": {},
   "source": [
    "create dictionary from nested lists"
   ]
  },
  {
   "cell_type": "code",
   "execution_count": 12,
   "metadata": {},
   "outputs": [],
   "source": [
    "person = [[\"name\", \"Jared\"], [\"job\", \"Musician\"], [\"city\", \"Bern\"]]\n",
    "\n",
    "# use the person variable in your answer\n",
    "answer = {item[0]:item[1] for item in person}"
   ]
  },
  {
   "cell_type": "code",
   "execution_count": 13,
   "metadata": {},
   "outputs": [],
   "source": [
    "person = [[\"name\", \"Jared\"], [\"job\", \"Musician\"], [\"city\", \"Bern\"]]\n",
    "answer = {k:v for k,v in person}\n",
    "\n",
    "# If you have a list of pairs, you can very easily turn it into a dictionary using dict() \n",
    "\n",
    "person = [[\"name\", \"Jared\"], [\"job\", \"Musician\"], [\"city\", \"Bern\"]]\n",
    "answer = dict(person)"
   ]
  },
  {
   "cell_type": "markdown",
   "metadata": {},
   "source": [
    "Create dict with vowels init as 0"
   ]
  },
  {
   "cell_type": "code",
   "execution_count": 28,
   "metadata": {},
   "outputs": [
    {
     "data": {
      "text/plain": [
       "{'a': 0, 'e': 0, 'i': 0, 'o': 0, 'u': 0}"
      ]
     },
     "execution_count": 28,
     "metadata": {},
     "output_type": "execute_result"
    }
   ],
   "source": [
    "{key : 0 for key in 'aeiou'}"
   ]
  },
  {
   "cell_type": "code",
   "execution_count": 29,
   "metadata": {},
   "outputs": [
    {
     "data": {
      "text/plain": [
       "{'a': 0, 'e': 0, 'i': 0, 'o': 0, 'u': 0}"
      ]
     },
     "execution_count": 29,
     "metadata": {},
     "output_type": "execute_result"
    }
   ],
   "source": [
    "dict.fromkeys(\"aeiou\",0)"
   ]
  },
  {
   "cell_type": "code",
   "execution_count": null,
   "metadata": {},
   "outputs": [],
   "source": []
  }
 ],
 "metadata": {
  "kernelspec": {
   "display_name": "Python 3",
   "language": "python",
   "name": "python3"
  },
  "language_info": {
   "codemirror_mode": {
    "name": "ipython",
    "version": 3
   },
   "file_extension": ".py",
   "mimetype": "text/x-python",
   "name": "python",
   "nbconvert_exporter": "python",
   "pygments_lexer": "ipython3",
   "version": "3.6.2"
  }
 },
 "nbformat": 4,
 "nbformat_minor": 2
}
